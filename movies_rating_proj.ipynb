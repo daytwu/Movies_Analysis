{
 "cells": [
  {
   "cell_type": "code",
   "execution_count": 269,
   "metadata": {},
   "outputs": [],
   "source": [
    "import warnings\n",
    "warnings.filterwarnings('ignore')"
   ]
  },
  {
   "cell_type": "code",
   "execution_count": 270,
   "metadata": {},
   "outputs": [
    {
     "name": "stdout",
     "output_type": "stream",
     "text": [
      "The autoreload extension is already loaded. To reload it, use:\n",
      "  %reload_ext autoreload\n"
     ]
    }
   ],
   "source": [
    "import pandas as pd\n",
    "import numpy as np\n",
    "import seaborn as sns\n",
    "import matplotlib.pyplot as plt\n",
    "from datetime import datetime\n",
    "import re\n",
    "\n",
    "# Modeling\n",
    "from sklearn.model_selection import train_test_split, KFold, cross_val_score\n",
    "from sklearn.linear_model import LinearRegression, Ridge, Lasso, LassoCV, Ridge, RidgeCV\n",
    "from sklearn.preprocessing import StandardScaler, PolynomialFeatures\n",
    "from sklearn.metrics import r2_score, mean_squared_error\n",
    "import scipy.stats as stats\n",
    "\n",
    "import pickle\n",
    "%load_ext autoreload\n",
    "%autoreload 2\n"
   ]
  },
  {
   "cell_type": "code",
   "execution_count": 271,
   "metadata": {},
   "outputs": [],
   "source": [
    "# Load the data\n",
    "file_path = Path('Movies.csv')\n",
    "df = pd.read_csv(file_path)"
   ]
  },
  {
   "cell_type": "markdown",
   "metadata": {},
   "source": [
    "## Clean up data "
   ]
  },
  {
   "cell_type": "code",
   "execution_count": 272,
   "metadata": {},
   "outputs": [],
   "source": [
    "# drop the column titled 'Type', 'Country' , 'Language', 'Rotten Tomatoes' \n",
    "df.drop (['ID','Type', 'Country', 'Language'], axis=1, inplace=True )"
   ]
  },
  {
   "cell_type": "code",
   "execution_count": 273,
   "metadata": {},
   "outputs": [
    {
     "data": {
      "text/html": [
       "<div>\n",
       "<style scoped>\n",
       "    .dataframe tbody tr th:only-of-type {\n",
       "        vertical-align: middle;\n",
       "    }\n",
       "\n",
       "    .dataframe tbody tr th {\n",
       "        vertical-align: top;\n",
       "    }\n",
       "\n",
       "    .dataframe thead th {\n",
       "        text-align: right;\n",
       "    }\n",
       "</style>\n",
       "<table border=\"1\" class=\"dataframe\">\n",
       "  <thead>\n",
       "    <tr style=\"text-align: right;\">\n",
       "      <th></th>\n",
       "      <th>Title</th>\n",
       "      <th>Year</th>\n",
       "      <th>Age</th>\n",
       "      <th>IMDb</th>\n",
       "      <th>Rotten Tomatoes</th>\n",
       "      <th>Netflix</th>\n",
       "      <th>Hulu</th>\n",
       "      <th>Prime Video</th>\n",
       "      <th>Disney+</th>\n",
       "      <th>Directors</th>\n",
       "      <th>Genres</th>\n",
       "      <th>Runtime</th>\n",
       "    </tr>\n",
       "  </thead>\n",
       "  <tbody>\n",
       "    <tr>\n",
       "      <th>0</th>\n",
       "      <td>Inception</td>\n",
       "      <td>2010</td>\n",
       "      <td>13+</td>\n",
       "      <td>8.8</td>\n",
       "      <td>87%</td>\n",
       "      <td>1</td>\n",
       "      <td>0</td>\n",
       "      <td>0</td>\n",
       "      <td>0</td>\n",
       "      <td>Christopher Nolan</td>\n",
       "      <td>Action,Adventure,Sci-Fi,Thriller</td>\n",
       "      <td>148.0</td>\n",
       "    </tr>\n",
       "    <tr>\n",
       "      <th>1</th>\n",
       "      <td>The Matrix</td>\n",
       "      <td>1999</td>\n",
       "      <td>18+</td>\n",
       "      <td>8.7</td>\n",
       "      <td>87%</td>\n",
       "      <td>1</td>\n",
       "      <td>0</td>\n",
       "      <td>0</td>\n",
       "      <td>0</td>\n",
       "      <td>Lana Wachowski,Lilly Wachowski</td>\n",
       "      <td>Action,Sci-Fi</td>\n",
       "      <td>136.0</td>\n",
       "    </tr>\n",
       "    <tr>\n",
       "      <th>2</th>\n",
       "      <td>Avengers: Infinity War</td>\n",
       "      <td>2018</td>\n",
       "      <td>13+</td>\n",
       "      <td>8.5</td>\n",
       "      <td>84%</td>\n",
       "      <td>1</td>\n",
       "      <td>0</td>\n",
       "      <td>0</td>\n",
       "      <td>0</td>\n",
       "      <td>Anthony Russo,Joe Russo</td>\n",
       "      <td>Action,Adventure,Sci-Fi</td>\n",
       "      <td>149.0</td>\n",
       "    </tr>\n",
       "    <tr>\n",
       "      <th>3</th>\n",
       "      <td>Back to the Future</td>\n",
       "      <td>1985</td>\n",
       "      <td>7+</td>\n",
       "      <td>8.5</td>\n",
       "      <td>96%</td>\n",
       "      <td>1</td>\n",
       "      <td>0</td>\n",
       "      <td>0</td>\n",
       "      <td>0</td>\n",
       "      <td>Robert Zemeckis</td>\n",
       "      <td>Adventure,Comedy,Sci-Fi</td>\n",
       "      <td>116.0</td>\n",
       "    </tr>\n",
       "    <tr>\n",
       "      <th>4</th>\n",
       "      <td>The Good, the Bad and the Ugly</td>\n",
       "      <td>1966</td>\n",
       "      <td>18+</td>\n",
       "      <td>8.8</td>\n",
       "      <td>97%</td>\n",
       "      <td>1</td>\n",
       "      <td>0</td>\n",
       "      <td>1</td>\n",
       "      <td>0</td>\n",
       "      <td>Sergio Leone</td>\n",
       "      <td>Western</td>\n",
       "      <td>161.0</td>\n",
       "    </tr>\n",
       "  </tbody>\n",
       "</table>\n",
       "</div>"
      ],
      "text/plain": [
       "                            Title  Year  Age  IMDb Rotten Tomatoes  Netflix  \\\n",
       "0                       Inception  2010  13+   8.8             87%        1   \n",
       "1                      The Matrix  1999  18+   8.7             87%        1   \n",
       "2          Avengers: Infinity War  2018  13+   8.5             84%        1   \n",
       "3              Back to the Future  1985   7+   8.5             96%        1   \n",
       "4  The Good, the Bad and the Ugly  1966  18+   8.8             97%        1   \n",
       "\n",
       "   Hulu  Prime Video  Disney+                       Directors  \\\n",
       "0     0            0        0               Christopher Nolan   \n",
       "1     0            0        0  Lana Wachowski,Lilly Wachowski   \n",
       "2     0            0        0         Anthony Russo,Joe Russo   \n",
       "3     0            0        0                 Robert Zemeckis   \n",
       "4     0            1        0                    Sergio Leone   \n",
       "\n",
       "                             Genres  Runtime  \n",
       "0  Action,Adventure,Sci-Fi,Thriller    148.0  \n",
       "1                     Action,Sci-Fi    136.0  \n",
       "2           Action,Adventure,Sci-Fi    149.0  \n",
       "3           Adventure,Comedy,Sci-Fi    116.0  \n",
       "4                           Western    161.0  "
      ]
     },
     "execution_count": 273,
     "metadata": {},
     "output_type": "execute_result"
    }
   ],
   "source": [
    "# drop the'Unnamed' column\n",
    "df = df.loc[:, ~df.columns.str.contains('^Unnamed')]\n",
    "df.head()"
   ]
  },
  {
   "cell_type": "code",
   "execution_count": 274,
   "metadata": {},
   "outputs": [],
   "source": [
    "# Drop the null rows\n",
    "df = df.dropna()"
   ]
  },
  {
   "cell_type": "code",
   "execution_count": 275,
   "metadata": {},
   "outputs": [],
   "source": [
    "# Drop duplicate title\n",
    "df.drop_duplicates(subset=['Title'],inplace=True)"
   ]
  },
  {
   "cell_type": "markdown",
   "metadata": {},
   "source": [
    "## Understand further relationships"
   ]
  },
  {
   "cell_type": "code",
   "execution_count": 276,
   "metadata": {},
   "outputs": [
    {
     "name": "stdout",
     "output_type": "stream",
     "text": [
      "<class 'pandas.core.frame.DataFrame'>\n",
      "Int64Index: 3310 entries, 0 to 16705\n",
      "Data columns (total 12 columns):\n",
      " #   Column           Non-Null Count  Dtype  \n",
      "---  ------           --------------  -----  \n",
      " 0   Title            3310 non-null   object \n",
      " 1   Year             3310 non-null   int64  \n",
      " 2   Age              3310 non-null   object \n",
      " 3   IMDb             3310 non-null   float64\n",
      " 4   Rotten Tomatoes  3310 non-null   object \n",
      " 5   Netflix          3310 non-null   int64  \n",
      " 6   Hulu             3310 non-null   int64  \n",
      " 7   Prime Video      3310 non-null   int64  \n",
      " 8   Disney+          3310 non-null   int64  \n",
      " 9   Directors        3310 non-null   object \n",
      " 10  Genres           3310 non-null   object \n",
      " 11  Runtime          3310 non-null   float64\n",
      "dtypes: float64(2), int64(5), object(5)\n",
      "memory usage: 336.2+ KB\n"
     ]
    }
   ],
   "source": [
    "# See what we're working with\n",
    "df.info()"
   ]
  },
  {
   "cell_type": "code",
   "execution_count": 277,
   "metadata": {},
   "outputs": [],
   "source": [
    "import seaborn as sns"
   ]
  },
  {
   "cell_type": "code",
   "execution_count": 278,
   "metadata": {},
   "outputs": [
    {
     "data": {
      "image/png": "[encoded data removed]",
      "text/plain": [
       "<Figure size 846.72x604.8 with 56 Axes>"
      ]
     },
     "metadata": {
      "needs_background": "light"
     },
     "output_type": "display_data"
    }
   ],
   "source": [
    "# Visualize some relationships\n",
    "sns.pairplot(df, height=1.2, aspect=1.40)\n",
    "plt.savefig('pariplot.png');"
   ]
  },
  {
   "cell_type": "code",
   "execution_count": 280,
   "metadata": {},
   "outputs": [],
   "source": [
    "df.set_index('Title',inplace=True)\n",
    "# Reset the index to be the Title"
   ]
  },
  {
   "cell_type": "markdown",
   "metadata": {},
   "source": [
    "## Runtime"
   ]
  },
  {
   "cell_type": "code",
   "execution_count": 281,
   "metadata": {},
   "outputs": [],
   "source": [
    "#Test out basic component of the new DataFrame.\n",
    "#Target: IMDb Rating\n",
    "X, y = df[['Runtime']], df['IMDb']\n"
   ]
  },
  {
   "cell_type": "code",
   "execution_count": 282,
   "metadata": {},
   "outputs": [
    {
     "name": "stdout",
     "output_type": "stream",
     "text": [
      "R-squared: 0.0725\n"
     ]
    }
   ],
   "source": [
    "lr = LinearRegression()\n",
    "lr.fit(X, y)\n",
    "print('R-squared: {:.4f}'.format(lr.score(X, y)))"
   ]
  },
  {
   "cell_type": "markdown",
   "metadata": {},
   "source": [
    "## Age Group"
   ]
  },
  {
   "cell_type": "code",
   "execution_count": 283,
   "metadata": {},
   "outputs": [],
   "source": [
    "#Clean up age group\n",
    "df['Age'] = df['Age'].str.replace('+', '')\n",
    "df ['Age'] = df ['Age'].str.replace ('all', '7')"
   ]
  },
  {
   "cell_type": "code",
   "execution_count": 284,
   "metadata": {},
   "outputs": [],
   "source": [
    "X, y = df[['Age']], df['IMDb']"
   ]
  },
  {
   "cell_type": "code",
   "execution_count": 285,
   "metadata": {},
   "outputs": [
    {
     "name": "stdout",
     "output_type": "stream",
     "text": [
      "R-squared: 0.0127\n"
     ]
    }
   ],
   "source": [
    "lr = LinearRegression()\n",
    "lr.fit(X, y)\n",
    "print('R-squared: {:.4f}'.format(lr.score(X, y)))"
   ]
  },
  {
   "cell_type": "markdown",
   "metadata": {},
   "source": [
    "## Rotten Tomatoes"
   ]
  },
  {
   "cell_type": "code",
   "execution_count": 286,
   "metadata": {},
   "outputs": [],
   "source": [
    "# Get dummy variables for RT ratings\n",
    "rt_df = pd.get_dummies(df['Rotten Tomatoes'])"
   ]
  },
  {
   "cell_type": "code",
   "execution_count": 287,
   "metadata": {},
   "outputs": [],
   "source": [
    "# Add them to the rest of the data\n",
    "df_added_rt_dummies = pd.concat([df,rt_df], axis=1)"
   ]
  },
  {
   "cell_type": "code",
   "execution_count": 288,
   "metadata": {},
   "outputs": [
    {
     "name": "stdout",
     "output_type": "stream",
     "text": [
      "R-squared: 0.0725\n"
     ]
    }
   ],
   "source": [
    "# Let's add the RT dummy variables to our model\n",
    "X, y = df_added_rt_dummies[['Runtime',]], df_added_rt_dummies['IMDb']\n",
    "lr = LinearRegression()\n",
    "lr.fit(X, y)\n",
    "print('R-squared: {:.4f}'.format(lr.score(X, y)))"
   ]
  },
  {
   "cell_type": "markdown",
   "metadata": {},
   "source": [
    "## Years since release"
   ]
  },
  {
   "cell_type": "code",
   "execution_count": 289,
   "metadata": {},
   "outputs": [],
   "source": [
    "df['Years since release'] = (2020 - df['Year'])"
   ]
  },
  {
   "cell_type": "code",
   "execution_count": 290,
   "metadata": {},
   "outputs": [],
   "source": [
    "year_df = pd.get_dummies(df['Years since release'])"
   ]
  },
  {
   "cell_type": "code",
   "execution_count": 291,
   "metadata": {},
   "outputs": [],
   "source": [
    "# Add them to the rest of the data\n",
    "df_added_year_dummies = pd.concat([df,year_df], axis=1)"
   ]
  },
  {
   "cell_type": "code",
   "execution_count": 292,
   "metadata": {},
   "outputs": [
    {
     "name": "stdout",
     "output_type": "stream",
     "text": [
      "R-squared: 0.0129\n"
     ]
    }
   ],
   "source": [
    "# Let's add the dummy variables to our model\n",
    "X, y = df_added_year_dummies[['Years since release',]], df_added_year_dummies['IMDb']\n",
    "lr = LinearRegression()\n",
    "lr.fit(X, y)\n",
    "print('R-squared: {:.4f}'.format(lr.score(X, y)))"
   ]
  },
  {
   "cell_type": "markdown",
   "metadata": {},
   "source": [
    "## Genre"
   ]
  },
  {
   "cell_type": "code",
   "execution_count": 293,
   "metadata": {},
   "outputs": [],
   "source": [
    "# Turns genres into dummy variables\n",
    "df_genres_added = pd.Series(df_added_rt_dummies['Genres'])\n",
    "df_genres_added = pd.get_dummies(df_genres_added.apply(pd.Series).stack()).sum(level=0)"
   ]
  },
  {
   "cell_type": "code",
   "execution_count": 294,
   "metadata": {},
   "outputs": [],
   "source": [
    "df_genres_rt = pd.concat([df_added_rt_dummies, df_genres_added], axis=1)"
   ]
  },
  {
   "cell_type": "code",
   "execution_count": 295,
   "metadata": {},
   "outputs": [
    {
     "name": "stdout",
     "output_type": "stream",
     "text": [
      "R-squared: 0.0895\n"
     ]
    }
   ],
   "source": [
    "X, y = df_genres_rt[['Runtime','Action','Comedy','Crime','Drama','Horror','Musical','Romance','Sci-Fi','Sport','Thriller','War','Western']], df_genres_rt['IMDb']\n",
    "lr = LinearRegression()\n",
    "lr.fit(X, y)\n",
    "print('R-squared: {:.4f}'.format(lr.score(X, y)))"
   ]
  },
  {
   "cell_type": "markdown",
   "metadata": {},
   "source": [
    "## Director"
   ]
  },
  {
   "cell_type": "code",
   "execution_count": 296,
   "metadata": {},
   "outputs": [
    {
     "data": {
      "text/plain": [
       "[]"
      ]
     },
     "execution_count": 296,
     "metadata": {},
     "output_type": "execute_result"
    }
   ],
   "source": [
    "# Now I'd like to try and sort out Director for some more intricate measures of success\n",
    "# check if there are any missing director information\n",
    "df[df['Directors']==''].index.tolist()"
   ]
  },
  {
   "cell_type": "code",
   "execution_count": 297,
   "metadata": {},
   "outputs": [],
   "source": [
    "def directors_list(directors):\n",
    "    if \",\" in directors:\n",
    "        return [name.strip() for name in directors.split(\",\")]\n",
    "    else:\n",
    "        return [directors]"
   ]
  },
  {
   "cell_type": "code",
   "execution_count": 298,
   "metadata": {},
   "outputs": [],
   "source": [
    "df['Directors'] = df['Directors'].apply(lambda x: directors_list(x))\n",
    "# Turns directors into a list to fix some inconsistencies"
   ]
  },
  {
   "cell_type": "code",
   "execution_count": 299,
   "metadata": {},
   "outputs": [],
   "source": [
    "def remove_paren(directors):\n",
    "    dir_list = []\n",
    "    for director in directors:\n",
    "        if \"(\" in director:\n",
    "            dir_clean = director.split(\"(\")[0].strip()\n",
    "            dir_list.append(dir_clean)\n",
    "        else:\n",
    "            dir_list.append(director)\n",
    "    return dir_list"
   ]
  },
  {
   "cell_type": "code",
   "execution_count": 300,
   "metadata": {},
   "outputs": [],
   "source": [
    "df['Directors'] = df['Directors'].apply(lambda x: remove_paren(x))\n",
    "# Remove parentheses in director columns"
   ]
  },
  {
   "cell_type": "code",
   "execution_count": 301,
   "metadata": {},
   "outputs": [],
   "source": [
    "# Create a function to select top directors and create new columns\n",
    "# This will let us create dummy variables just for top directors\n",
    "def top_directors(directors):\n",
    "    dir_list = []\n",
    "    for director in directors:\n",
    "        if director in dir_10:\n",
    "            dir_list.append(director)\n",
    "    return dir_list"
   ]
  },
  {
   "cell_type": "code",
   "execution_count": 302,
   "metadata": {},
   "outputs": [],
   "source": [
    "# Explode out directors to report on their relevance\n",
    "df_dir_exploded = df.explode('Directors')"
   ]
  },
  {
   "cell_type": "code",
   "execution_count": 303,
   "metadata": {},
   "outputs": [
    {
     "data": {
      "text/plain": [
       "['Robert Stevenson',\n",
       " 'Kenny Ortega',\n",
       " 'Jay Roach',\n",
       " 'Steven Spielberg',\n",
       " 'Steven Brill',\n",
       " 'Quentin Tarantino',\n",
       " 'Robert Zemeckis',\n",
       " 'Robert Altman',\n",
       " 'Tyler Perry',\n",
       " 'Bradley Raymond']"
      ]
     },
     "execution_count": 303,
     "metadata": {},
     "output_type": "execute_result"
    }
   ],
   "source": [
    "dir_10 = df_dir_exploded['Directors'].value_counts()[:10].index.tolist()\n",
    "dir_10"
   ]
  },
  {
   "cell_type": "code",
   "execution_count": 304,
   "metadata": {},
   "outputs": [
    {
     "data": {
      "text/html": [
       "<div>\n",
       "<style scoped>\n",
       "    .dataframe tbody tr th:only-of-type {\n",
       "        vertical-align: middle;\n",
       "    }\n",
       "\n",
       "    .dataframe tbody tr th {\n",
       "        vertical-align: top;\n",
       "    }\n",
       "\n",
       "    .dataframe thead th {\n",
       "        text-align: right;\n",
       "    }\n",
       "</style>\n",
       "<table border=\"1\" class=\"dataframe\">\n",
       "  <thead>\n",
       "    <tr style=\"text-align: right;\">\n",
       "      <th></th>\n",
       "      <th>Year</th>\n",
       "      <th>Age</th>\n",
       "      <th>IMDb</th>\n",
       "      <th>Rotten Tomatoes</th>\n",
       "      <th>Netflix</th>\n",
       "      <th>Hulu</th>\n",
       "      <th>Prime Video</th>\n",
       "      <th>Disney+</th>\n",
       "      <th>Directors</th>\n",
       "      <th>Genres</th>\n",
       "      <th>Runtime</th>\n",
       "      <th>Years since release</th>\n",
       "      <th>Top directors</th>\n",
       "    </tr>\n",
       "    <tr>\n",
       "      <th>Title</th>\n",
       "      <th></th>\n",
       "      <th></th>\n",
       "      <th></th>\n",
       "      <th></th>\n",
       "      <th></th>\n",
       "      <th></th>\n",
       "      <th></th>\n",
       "      <th></th>\n",
       "      <th></th>\n",
       "      <th></th>\n",
       "      <th></th>\n",
       "      <th></th>\n",
       "      <th></th>\n",
       "    </tr>\n",
       "  </thead>\n",
       "  <tbody>\n",
       "    <tr>\n",
       "      <th>Inception</th>\n",
       "      <td>2010</td>\n",
       "      <td>13</td>\n",
       "      <td>8.8</td>\n",
       "      <td>87%</td>\n",
       "      <td>1</td>\n",
       "      <td>0</td>\n",
       "      <td>0</td>\n",
       "      <td>0</td>\n",
       "      <td>[Christopher Nolan]</td>\n",
       "      <td>Action,Adventure,Sci-Fi,Thriller</td>\n",
       "      <td>148.0</td>\n",
       "      <td>10</td>\n",
       "      <td>[]</td>\n",
       "    </tr>\n",
       "    <tr>\n",
       "      <th>The Matrix</th>\n",
       "      <td>1999</td>\n",
       "      <td>18</td>\n",
       "      <td>8.7</td>\n",
       "      <td>87%</td>\n",
       "      <td>1</td>\n",
       "      <td>0</td>\n",
       "      <td>0</td>\n",
       "      <td>0</td>\n",
       "      <td>[Lana Wachowski, Lilly Wachowski]</td>\n",
       "      <td>Action,Sci-Fi</td>\n",
       "      <td>136.0</td>\n",
       "      <td>21</td>\n",
       "      <td>[]</td>\n",
       "    </tr>\n",
       "    <tr>\n",
       "      <th>Avengers: Infinity War</th>\n",
       "      <td>2018</td>\n",
       "      <td>13</td>\n",
       "      <td>8.5</td>\n",
       "      <td>84%</td>\n",
       "      <td>1</td>\n",
       "      <td>0</td>\n",
       "      <td>0</td>\n",
       "      <td>0</td>\n",
       "      <td>[Anthony Russo, Joe Russo]</td>\n",
       "      <td>Action,Adventure,Sci-Fi</td>\n",
       "      <td>149.0</td>\n",
       "      <td>2</td>\n",
       "      <td>[]</td>\n",
       "    </tr>\n",
       "    <tr>\n",
       "      <th>Back to the Future</th>\n",
       "      <td>1985</td>\n",
       "      <td>7</td>\n",
       "      <td>8.5</td>\n",
       "      <td>96%</td>\n",
       "      <td>1</td>\n",
       "      <td>0</td>\n",
       "      <td>0</td>\n",
       "      <td>0</td>\n",
       "      <td>[Robert Zemeckis]</td>\n",
       "      <td>Adventure,Comedy,Sci-Fi</td>\n",
       "      <td>116.0</td>\n",
       "      <td>35</td>\n",
       "      <td>[Robert Zemeckis]</td>\n",
       "    </tr>\n",
       "    <tr>\n",
       "      <th>The Good, the Bad and the Ugly</th>\n",
       "      <td>1966</td>\n",
       "      <td>18</td>\n",
       "      <td>8.8</td>\n",
       "      <td>97%</td>\n",
       "      <td>1</td>\n",
       "      <td>0</td>\n",
       "      <td>1</td>\n",
       "      <td>0</td>\n",
       "      <td>[Sergio Leone]</td>\n",
       "      <td>Western</td>\n",
       "      <td>161.0</td>\n",
       "      <td>54</td>\n",
       "      <td>[]</td>\n",
       "    </tr>\n",
       "    <tr>\n",
       "      <th>...</th>\n",
       "      <td>...</td>\n",
       "      <td>...</td>\n",
       "      <td>...</td>\n",
       "      <td>...</td>\n",
       "      <td>...</td>\n",
       "      <td>...</td>\n",
       "      <td>...</td>\n",
       "      <td>...</td>\n",
       "      <td>...</td>\n",
       "      <td>...</td>\n",
       "      <td>...</td>\n",
       "      <td>...</td>\n",
       "      <td>...</td>\n",
       "    </tr>\n",
       "    <tr>\n",
       "      <th>A Kid in King Arthur's Court</th>\n",
       "      <td>1995</td>\n",
       "      <td>7</td>\n",
       "      <td>4.7</td>\n",
       "      <td>5%</td>\n",
       "      <td>0</td>\n",
       "      <td>0</td>\n",
       "      <td>0</td>\n",
       "      <td>1</td>\n",
       "      <td>[Michael Gottlieb]</td>\n",
       "      <td>Adventure,Comedy,Family,Fantasy,Romance</td>\n",
       "      <td>89.0</td>\n",
       "      <td>25</td>\n",
       "      <td>[]</td>\n",
       "    </tr>\n",
       "    <tr>\n",
       "      <th>George of the Jungle 2</th>\n",
       "      <td>2003</td>\n",
       "      <td>7</td>\n",
       "      <td>3.3</td>\n",
       "      <td>17%</td>\n",
       "      <td>0</td>\n",
       "      <td>0</td>\n",
       "      <td>0</td>\n",
       "      <td>1</td>\n",
       "      <td>[David Grossman]</td>\n",
       "      <td>Adventure,Comedy,Family</td>\n",
       "      <td>87.0</td>\n",
       "      <td>17</td>\n",
       "      <td>[]</td>\n",
       "    </tr>\n",
       "    <tr>\n",
       "      <th>That Darn Cat</th>\n",
       "      <td>1997</td>\n",
       "      <td>7</td>\n",
       "      <td>4.7</td>\n",
       "      <td>13%</td>\n",
       "      <td>0</td>\n",
       "      <td>0</td>\n",
       "      <td>0</td>\n",
       "      <td>1</td>\n",
       "      <td>[Robert Stevenson]</td>\n",
       "      <td>Comedy,Crime,Family,Thriller</td>\n",
       "      <td>116.0</td>\n",
       "      <td>23</td>\n",
       "      <td>[Robert Stevenson]</td>\n",
       "    </tr>\n",
       "    <tr>\n",
       "      <th>Kazaam</th>\n",
       "      <td>1996</td>\n",
       "      <td>7</td>\n",
       "      <td>3.0</td>\n",
       "      <td>6%</td>\n",
       "      <td>0</td>\n",
       "      <td>0</td>\n",
       "      <td>0</td>\n",
       "      <td>1</td>\n",
       "      <td>[Paul Michael Glaser]</td>\n",
       "      <td>Comedy,Family,Fantasy,Musical</td>\n",
       "      <td>93.0</td>\n",
       "      <td>24</td>\n",
       "      <td>[]</td>\n",
       "    </tr>\n",
       "    <tr>\n",
       "      <th>Meet the Deedles</th>\n",
       "      <td>1998</td>\n",
       "      <td>7</td>\n",
       "      <td>4.1</td>\n",
       "      <td>7%</td>\n",
       "      <td>0</td>\n",
       "      <td>0</td>\n",
       "      <td>0</td>\n",
       "      <td>1</td>\n",
       "      <td>[Steve Boyum]</td>\n",
       "      <td>Comedy,Family</td>\n",
       "      <td>93.0</td>\n",
       "      <td>22</td>\n",
       "      <td>[]</td>\n",
       "    </tr>\n",
       "  </tbody>\n",
       "</table>\n",
       "<p>3310 rows × 13 columns</p>\n",
       "</div>"
      ],
      "text/plain": [
       "                                Year Age  IMDb Rotten Tomatoes  Netflix  Hulu  \\\n",
       "Title                                                                           \n",
       "Inception                       2010  13   8.8             87%        1     0   \n",
       "The Matrix                      1999  18   8.7             87%        1     0   \n",
       "Avengers: Infinity War          2018  13   8.5             84%        1     0   \n",
       "Back to the Future              1985   7   8.5             96%        1     0   \n",
       "The Good, the Bad and the Ugly  1966  18   8.8             97%        1     0   \n",
       "...                              ...  ..   ...             ...      ...   ...   \n",
       "A Kid in King Arthur's Court    1995   7   4.7              5%        0     0   \n",
       "George of the Jungle 2          2003   7   3.3             17%        0     0   \n",
       "That Darn Cat                   1997   7   4.7             13%        0     0   \n",
       "Kazaam                          1996   7   3.0              6%        0     0   \n",
       "Meet the Deedles                1998   7   4.1              7%        0     0   \n",
       "\n",
       "                                Prime Video  Disney+  \\\n",
       "Title                                                  \n",
       "Inception                                 0        0   \n",
       "The Matrix                                0        0   \n",
       "Avengers: Infinity War                    0        0   \n",
       "Back to the Future                        0        0   \n",
       "The Good, the Bad and the Ugly            1        0   \n",
       "...                                     ...      ...   \n",
       "A Kid in King Arthur's Court              0        1   \n",
       "George of the Jungle 2                    0        1   \n",
       "That Darn Cat                             0        1   \n",
       "Kazaam                                    0        1   \n",
       "Meet the Deedles                          0        1   \n",
       "\n",
       "                                                        Directors  \\\n",
       "Title                                                               \n",
       "Inception                                     [Christopher Nolan]   \n",
       "The Matrix                      [Lana Wachowski, Lilly Wachowski]   \n",
       "Avengers: Infinity War                 [Anthony Russo, Joe Russo]   \n",
       "Back to the Future                              [Robert Zemeckis]   \n",
       "The Good, the Bad and the Ugly                     [Sergio Leone]   \n",
       "...                                                           ...   \n",
       "A Kid in King Arthur's Court                   [Michael Gottlieb]   \n",
       "George of the Jungle 2                           [David Grossman]   \n",
       "That Darn Cat                                  [Robert Stevenson]   \n",
       "Kazaam                                      [Paul Michael Glaser]   \n",
       "Meet the Deedles                                    [Steve Boyum]   \n",
       "\n",
       "                                                                 Genres  \\\n",
       "Title                                                                     \n",
       "Inception                              Action,Adventure,Sci-Fi,Thriller   \n",
       "The Matrix                                                Action,Sci-Fi   \n",
       "Avengers: Infinity War                          Action,Adventure,Sci-Fi   \n",
       "Back to the Future                              Adventure,Comedy,Sci-Fi   \n",
       "The Good, the Bad and the Ugly                                  Western   \n",
       "...                                                                 ...   \n",
       "A Kid in King Arthur's Court    Adventure,Comedy,Family,Fantasy,Romance   \n",
       "George of the Jungle 2                          Adventure,Comedy,Family   \n",
       "That Darn Cat                              Comedy,Crime,Family,Thriller   \n",
       "Kazaam                                    Comedy,Family,Fantasy,Musical   \n",
       "Meet the Deedles                                          Comedy,Family   \n",
       "\n",
       "                                Runtime  Years since release  \\\n",
       "Title                                                          \n",
       "Inception                         148.0                   10   \n",
       "The Matrix                        136.0                   21   \n",
       "Avengers: Infinity War            149.0                    2   \n",
       "Back to the Future                116.0                   35   \n",
       "The Good, the Bad and the Ugly    161.0                   54   \n",
       "...                                 ...                  ...   \n",
       "A Kid in King Arthur's Court       89.0                   25   \n",
       "George of the Jungle 2             87.0                   17   \n",
       "That Darn Cat                     116.0                   23   \n",
       "Kazaam                             93.0                   24   \n",
       "Meet the Deedles                   93.0                   22   \n",
       "\n",
       "                                     Top directors  \n",
       "Title                                               \n",
       "Inception                                       []  \n",
       "The Matrix                                      []  \n",
       "Avengers: Infinity War                          []  \n",
       "Back to the Future               [Robert Zemeckis]  \n",
       "The Good, the Bad and the Ugly                  []  \n",
       "...                                            ...  \n",
       "A Kid in King Arthur's Court                    []  \n",
       "George of the Jungle 2                          []  \n",
       "That Darn Cat                   [Robert Stevenson]  \n",
       "Kazaam                                          []  \n",
       "Meet the Deedles                                []  \n",
       "\n",
       "[3310 rows x 13 columns]"
      ]
     },
     "execution_count": 304,
     "metadata": {},
     "output_type": "execute_result"
    }
   ],
   "source": [
    "# Apply that function to create a new column\n",
    "df['Top directors'] = df['Directors'].apply(lambda x: top_directors(x))\n",
    "df"
   ]
  },
  {
   "cell_type": "code",
   "execution_count": 305,
   "metadata": {},
   "outputs": [],
   "source": [
    "dir_df = pd.get_dummies(df['Top directors'].apply(pd.Series).stack()).sum(level=0)"
   ]
  },
  {
   "cell_type": "code",
   "execution_count": 306,
   "metadata": {},
   "outputs": [],
   "source": [
    "df_dir_model = pd.concat([df_genres_rt, dir_df], axis=1)\n",
    "# Merge dummies with model DataFrame"
   ]
  },
  {
   "cell_type": "code",
   "execution_count": 307,
   "metadata": {},
   "outputs": [],
   "source": [
    "df_dir_model.drop(labels=['Genres','Directors', 'Age', 'Rotten Tomatoes'],axis=1,inplace=True)\n",
    "# Let's take out the columns we're not using"
   ]
  },
  {
   "cell_type": "code",
   "execution_count": 308,
   "metadata": {},
   "outputs": [],
   "source": [
    "df_dir_model.replace(np.nan,0,inplace=True)\n",
    "# Replace all of the NaN values with 0s to turn it into a proper binary dataset"
   ]
  },
  {
   "cell_type": "code",
   "execution_count": 309,
   "metadata": {},
   "outputs": [
    {
     "name": "stdout",
     "output_type": "stream",
     "text": [
      "R-squared: 0.6789\n"
     ]
    }
   ],
   "source": [
    "X, y = df_dir_model.iloc[:,2:], df_dir_model['IMDb']\n",
    "lr = LinearRegression()\n",
    "lr.fit(X, y)\n",
    "print('R-squared: {:.4f}'.format(lr.score(X, y)))\n",
    "# So we moved up 0.02 points again, which isn't nothing. Let's try the same concept for writers"
   ]
  },
  {
   "cell_type": "markdown",
   "metadata": {},
   "source": [
    "## Train / Validation / Test"
   ]
  },
  {
   "cell_type": "code",
   "execution_count": 310,
   "metadata": {},
   "outputs": [],
   "source": [
    "X, y = df_added_year_dummies[['Years since release',]], df_added_year_dummies['IMDb']\n",
    "X, X_test, y, y_test = train_test_split(X, y, test_size=.2, random_state=20)"
   ]
  },
  {
   "cell_type": "code",
   "execution_count": 311,
   "metadata": {},
   "outputs": [],
   "source": [
    "X_train, X_val, y_train, y_val = train_test_split(X, y, test_size=.25, random_state=20)"
   ]
  },
  {
   "cell_type": "code",
   "execution_count": 312,
   "metadata": {},
   "outputs": [],
   "source": [
    "# Let's first test Linear Regression vs Polynomial Features\n",
    "lr = LinearRegression()\n",
    "\n",
    "poly = PolynomialFeatures(degree=2) \n",
    "\n",
    "X_train_poly = poly.fit_transform(X_train.values)\n",
    "X_val_poly = poly.transform(X_val.values)\n",
    "X_test_poly = poly.transform(X_test.values)\n",
    "\n",
    "lr_poly = LinearRegression()"
   ]
  },
  {
   "cell_type": "code",
   "execution_count": 313,
   "metadata": {},
   "outputs": [
    {
     "name": "stdout",
     "output_type": "stream",
     "text": [
      "Linear Regression val R-squared: 0.011\n",
      "Degree 2 polynomial regression val R-squared: 0.013\n"
     ]
    }
   ],
   "source": [
    "lr.fit(X_train, y_train)\n",
    "print(f'Linear Regression val R-squared: {lr.score(X_val, y_val):.3f}')\n",
    "\n",
    "lr_poly.fit(X_train_poly, y_train)\n",
    "print(f'Degree 2 polynomial regression val R-squared: {lr_poly.score(X_val_poly, y_val):.3f}')"
   ]
  },
  {
   "cell_type": "code",
   "execution_count": 314,
   "metadata": {},
   "outputs": [],
   "source": [
    "X, y = df_added_year_dummies[['Years since release',]], df_added_year_dummies['IMDb']\n",
    "# Reset the data for the next model"
   ]
  },
  {
   "cell_type": "code",
   "execution_count": 315,
   "metadata": {},
   "outputs": [],
   "source": [
    "X, X_test, y, y_test = train_test_split(X, y, test_size=.2, random_state=10)\n",
    "X, y = np.array(X), np.array(y) \n",
    "lr = LinearRegression()"
   ]
  },
  {
   "cell_type": "code",
   "execution_count": 316,
   "metadata": {},
   "outputs": [
    {
     "name": "stdout",
     "output_type": "stream",
     "text": [
      "Simple regression scores:  [0.007296981404570024, 0.02536524204587598, 0.026494289847297292, 0.00801116293633164, -0.0014771006106242268]\n",
      "Ridge scores:  [0.007300933737299453, 0.02535775258499917, 0.026487464503984537, 0.008017798000475529, -0.0014677867032084624] \n",
      "\n",
      "Simple mean cv R-squared: 0.013 +- 0.011\n",
      "Ridge mean cv R-squared: 0.013 +- 0.011\n"
     ]
    }
   ],
   "source": [
    "# Here we'll validate our Linear model vs. the Ridge model\n",
    "kf = KFold(n_splits=5, shuffle=True, random_state = 61)\n",
    "cv_lr_r2s, cv_lr_reg_r2s = [], []\n",
    "\n",
    "for train_ind, val_ind in kf.split(X,y):\n",
    "    \n",
    "    X_train, y_train = X[train_ind], y[train_ind]\n",
    "    X_val, y_val = X[val_ind], y[val_ind] \n",
    "    \n",
    "    #Linear Regression\n",
    "    lr = LinearRegression()\n",
    "    lr_reg = Ridge(alpha=1)\n",
    "\n",
    "    lr.fit(X_train, y_train)\n",
    "    cv_lr_r2s.append(lr.score(X_val, y_val))\n",
    "    \n",
    "    #Ridge\n",
    "    scaler = StandardScaler()\n",
    "    X_train_scaled = scaler.fit_transform(X_train)\n",
    "    X_val_scaled = scaler.transform(X_val)\n",
    "    \n",
    "    lr_reg.fit(X_train_scaled, y_train)\n",
    "    cv_lr_reg_r2s.append(lr_reg.score(X_val_scaled, y_val))\n",
    "\n",
    "print('Simple regression scores: ', cv_lr_r2s)\n",
    "print('Ridge scores: ', cv_lr_reg_r2s, '\\n')\n",
    "\n",
    "print(f'Simple mean cv R-squared: {np.mean(cv_lr_r2s):.3f} +- {np.std(cv_lr_r2s):.3f}')\n",
    "print(f'Ridge mean cv R-squared: {np.mean(cv_lr_reg_r2s):.3f} +- {np.std(cv_lr_reg_r2s):.3f}')"
   ]
  },
  {
   "cell_type": "code",
   "execution_count": 317,
   "metadata": {},
   "outputs": [],
   "source": [
    "X, y = df_added_year_dummies[['Years since release',]], df_added_year_dummies['IMDb']\n",
    "X_train, X_test, y_train, y_test = train_test_split(X, y, test_size=.2, random_state=10)\n",
    "# Reset the data for the next model"
   ]
  },
  {
   "cell_type": "code",
   "execution_count": 318,
   "metadata": {},
   "outputs": [],
   "source": [
    "scaler = StandardScaler()\n",
    "X_train_scaled = scaler.fit_transform(X_train)\n",
    "X_test_scaled = scaler.transform(X_test)\n",
    "# Rescale the data for more Ridge testing"
   ]
  },
  {
   "cell_type": "code",
   "execution_count": 319,
   "metadata": {},
   "outputs": [],
   "source": [
    "lr_reg.fit(X_train_scaled, y_train);\n",
    "# The code for our Ridge model"
   ]
  },
  {
   "cell_type": "code",
   "execution_count": 320,
   "metadata": {},
   "outputs": [],
   "source": [
    "test_set_pred = lr_reg.predict(X_test_scaled)\n",
    "# Set our predicted values to a variable"
   ]
  },
  {
   "cell_type": "code",
   "execution_count": 321,
   "metadata": {},
   "outputs": [
    {
     "data": {
      "image/png": "[encoded data removed]",
      "text/plain": [
       "<Figure size 432x288 with 1 Axes>"
      ]
     },
     "metadata": {
      "needs_background": "light"
     },
     "output_type": "display_data"
    }
   ],
   "source": [
    "plt.scatter(test_set_pred, y_test, alpha=.5)\n",
    "plt.plot(np.linspace(0,10), np.linspace(0,10))\n",
    "plt.title('Ridge Model Prediction vs. Target')\n",
    "plt.xlabel('Predicted IMDb Rating')\n",
    "plt.ylabel('Actual IMDb Rating');\n",
    "# The plot looks fairly decent"
   ]
  },
  {
   "cell_type": "code",
   "execution_count": 322,
   "metadata": {},
   "outputs": [
    {
     "name": "stdout",
     "output_type": "stream",
     "text": [
      "Ridge R-squared: 0.0025\n"
     ]
    }
   ],
   "source": [
    "print('Ridge R-squared: {:.4f}'.format(r2_score(y_test, test_set_pred))) \n",
    "# Also, this r2 score doesn't look too bad either"
   ]
  },
  {
   "cell_type": "code",
   "execution_count": 323,
   "metadata": {},
   "outputs": [
    {
     "name": "stdout",
     "output_type": "stream",
     "text": [
      "MAE: 0.7498\n"
     ]
    }
   ],
   "source": [
    "#Mean Absolute Error (MAE)\n",
    "def mae(y_true, y_pred):\n",
    "    return np.mean(np.abs(y_pred - y_true)) \n",
    "\n",
    "print('MAE: {:.4f}'.format(mae(y_test, test_set_pred)))\n",
    "# And the MAE isn't terrible either"
   ]
  },
  {
   "cell_type": "code",
   "execution_count": 324,
   "metadata": {},
   "outputs": [],
   "source": [
    "def diagnostic_plot(x, y):\n",
    "    plt.figure(figsize=(20,5))\n",
    "\n",
    "    pred = x\n",
    "\n",
    "    plt.subplot(1, 3, 1)\n",
    "    plt.scatter(x,y)\n",
    "    plt.plot(x, pred, color='green',linewidth=1)\n",
    "    plt.title(\"Regression fit\")\n",
    "    plt.xlabel(\"x\")\n",
    "    plt.ylabel(\"y\")\n",
    "    \n",
    "    plt.subplot(1, 3, 2)\n",
    "    res = y - pred\n",
    "    plt.scatter(pred, res)\n",
    "    plt.title(\"Residual plot\")\n",
    "    plt.xlabel(\"prediction\")\n",
    "    plt.ylabel(\"residuals\")\n",
    "    \n",
    "    plt.subplot(1, 3, 3)\n",
    "    #Generates a probability plot of sample data against the quantiles of a \n",
    "    # specified theoretical distribution \n",
    "    stats.probplot(res, dist=\"norm\", plot=plt)\n",
    "    plt.title(\"Normal Q-Q plot\");"
   ]
  },
  {
   "cell_type": "code",
   "execution_count": 325,
   "metadata": {},
   "outputs": [
    {
     "data": {
      "image/png": "[encoded data removed]",
      "text/plain": [
       "<Figure size 1440x360 with 3 Axes>"
      ]
     },
     "metadata": {
      "needs_background": "light"
     },
     "output_type": "display_data"
    }
   ],
   "source": [
    "diagnostic_plot(test_set_pred, y_test)\n",
    "# The head and tails of the Q-Q plot seem to tell a story about our data.\n",
    "# Also, there seems to be an outlier than may be messing up our model, shown in the Regression fit."
   ]
  },
  {
   "cell_type": "code",
   "execution_count": 326,
   "metadata": {},
   "outputs": [],
   "source": [
    "X, y= df_added_year_dummies[['Years since release',]], df_added_year_dummies['IMDb']"
   ]
  },
  {
   "cell_type": "code",
   "execution_count": 327,
   "metadata": {},
   "outputs": [],
   "source": [
    "X_scaled = scaler.fit_transform(X)\n",
    "X_predicted = lr_reg.predict(X_scaled)\n",
    "# Rescale the data for more Ridge testing"
   ]
  },
  {
   "cell_type": "code",
   "execution_count": 328,
   "metadata": {},
   "outputs": [],
   "source": [
    "df_added_year_dummies['res'] = X_predicted - df_added_year_dummies['IMDb']\n",
    "# Create a residuals column to determine if there is any relationship behind the movies that are overpredicted and underpredicted"
   ]
  },
  {
   "cell_type": "code",
   "execution_count": 329,
   "metadata": {},
   "outputs": [
    {
     "data": {
      "text/html": [
       "<div>\n",
       "<style scoped>\n",
       "    .dataframe tbody tr th:only-of-type {\n",
       "        vertical-align: middle;\n",
       "    }\n",
       "\n",
       "    .dataframe tbody tr th {\n",
       "        vertical-align: top;\n",
       "    }\n",
       "\n",
       "    .dataframe thead th {\n",
       "        text-align: right;\n",
       "    }\n",
       "</style>\n",
       "<table border=\"1\" class=\"dataframe\">\n",
       "  <thead>\n",
       "    <tr style=\"text-align: right;\">\n",
       "      <th></th>\n",
       "      <th>Year</th>\n",
       "      <th>Age</th>\n",
       "      <th>IMDb</th>\n",
       "      <th>Rotten Tomatoes</th>\n",
       "      <th>Netflix</th>\n",
       "      <th>Hulu</th>\n",
       "      <th>Prime Video</th>\n",
       "      <th>Disney+</th>\n",
       "      <th>Directors</th>\n",
       "      <th>Genres</th>\n",
       "      <th>...</th>\n",
       "      <th>88</th>\n",
       "      <th>89</th>\n",
       "      <th>90</th>\n",
       "      <th>95</th>\n",
       "      <th>98</th>\n",
       "      <th>100</th>\n",
       "      <th>101</th>\n",
       "      <th>105</th>\n",
       "      <th>118</th>\n",
       "      <th>res</th>\n",
       "    </tr>\n",
       "    <tr>\n",
       "      <th>Title</th>\n",
       "      <th></th>\n",
       "      <th></th>\n",
       "      <th></th>\n",
       "      <th></th>\n",
       "      <th></th>\n",
       "      <th></th>\n",
       "      <th></th>\n",
       "      <th></th>\n",
       "      <th></th>\n",
       "      <th></th>\n",
       "      <th></th>\n",
       "      <th></th>\n",
       "      <th></th>\n",
       "      <th></th>\n",
       "      <th></th>\n",
       "      <th></th>\n",
       "      <th></th>\n",
       "      <th></th>\n",
       "      <th></th>\n",
       "      <th></th>\n",
       "      <th></th>\n",
       "    </tr>\n",
       "  </thead>\n",
       "  <tbody>\n",
       "    <tr>\n",
       "      <th>Jonas Brothers: The Concert Experience</th>\n",
       "      <td>2009</td>\n",
       "      <td>7</td>\n",
       "      <td>1.6</td>\n",
       "      <td>24%</td>\n",
       "      <td>0</td>\n",
       "      <td>0</td>\n",
       "      <td>0</td>\n",
       "      <td>1</td>\n",
       "      <td>Bruce Hendricks</td>\n",
       "      <td>Documentary,Music</td>\n",
       "      <td>...</td>\n",
       "      <td>0</td>\n",
       "      <td>0</td>\n",
       "      <td>0</td>\n",
       "      <td>0</td>\n",
       "      <td>0</td>\n",
       "      <td>0</td>\n",
       "      <td>0</td>\n",
       "      <td>0</td>\n",
       "      <td>0</td>\n",
       "      <td>4.725431</td>\n",
       "    </tr>\n",
       "    <tr>\n",
       "      <th>Hannah Montana &amp; Miley Cyrus: Best of Both Worlds Concert</th>\n",
       "      <td>2008</td>\n",
       "      <td>7</td>\n",
       "      <td>2.4</td>\n",
       "      <td>73%</td>\n",
       "      <td>0</td>\n",
       "      <td>0</td>\n",
       "      <td>0</td>\n",
       "      <td>1</td>\n",
       "      <td>Bruce Hendricks</td>\n",
       "      <td>Documentary,Music</td>\n",
       "      <td>...</td>\n",
       "      <td>0</td>\n",
       "      <td>0</td>\n",
       "      <td>0</td>\n",
       "      <td>0</td>\n",
       "      <td>0</td>\n",
       "      <td>0</td>\n",
       "      <td>0</td>\n",
       "      <td>0</td>\n",
       "      <td>0</td>\n",
       "      <td>3.933841</td>\n",
       "    </tr>\n",
       "    <tr>\n",
       "      <th>Mega Piranha</th>\n",
       "      <td>2010</td>\n",
       "      <td>18</td>\n",
       "      <td>2.4</td>\n",
       "      <td>8%</td>\n",
       "      <td>0</td>\n",
       "      <td>0</td>\n",
       "      <td>1</td>\n",
       "      <td>0</td>\n",
       "      <td>Eric Forsberg</td>\n",
       "      <td>Action,Adventure,Comedy,Horror,Sci-Fi,Thriller</td>\n",
       "      <td>...</td>\n",
       "      <td>0</td>\n",
       "      <td>0</td>\n",
       "      <td>0</td>\n",
       "      <td>0</td>\n",
       "      <td>0</td>\n",
       "      <td>0</td>\n",
       "      <td>0</td>\n",
       "      <td>0</td>\n",
       "      <td>0</td>\n",
       "      <td>3.917021</td>\n",
       "    </tr>\n",
       "    <tr>\n",
       "      <th>Mega Shark vs. Giant Octopus</th>\n",
       "      <td>2009</td>\n",
       "      <td>18</td>\n",
       "      <td>2.5</td>\n",
       "      <td>18%</td>\n",
       "      <td>0</td>\n",
       "      <td>0</td>\n",
       "      <td>1</td>\n",
       "      <td>0</td>\n",
       "      <td>Jack Perez</td>\n",
       "      <td>Action,Adventure,Comedy,Horror,Sci-Fi,Thriller</td>\n",
       "      <td>...</td>\n",
       "      <td>0</td>\n",
       "      <td>0</td>\n",
       "      <td>0</td>\n",
       "      <td>0</td>\n",
       "      <td>0</td>\n",
       "      <td>0</td>\n",
       "      <td>0</td>\n",
       "      <td>0</td>\n",
       "      <td>0</td>\n",
       "      <td>3.825431</td>\n",
       "    </tr>\n",
       "    <tr>\n",
       "      <th>Black Rose</th>\n",
       "      <td>2014</td>\n",
       "      <td>18</td>\n",
       "      <td>2.5</td>\n",
       "      <td>22%</td>\n",
       "      <td>1</td>\n",
       "      <td>0</td>\n",
       "      <td>0</td>\n",
       "      <td>0</td>\n",
       "      <td>Alexander Nevsky</td>\n",
       "      <td>Action,Crime,Drama</td>\n",
       "      <td>...</td>\n",
       "      <td>0</td>\n",
       "      <td>0</td>\n",
       "      <td>0</td>\n",
       "      <td>0</td>\n",
       "      <td>0</td>\n",
       "      <td>0</td>\n",
       "      <td>0</td>\n",
       "      <td>0</td>\n",
       "      <td>0</td>\n",
       "      <td>3.783379</td>\n",
       "    </tr>\n",
       "    <tr>\n",
       "      <th>The Amityville Curse</th>\n",
       "      <td>1990</td>\n",
       "      <td>18</td>\n",
       "      <td>2.9</td>\n",
       "      <td>17%</td>\n",
       "      <td>0</td>\n",
       "      <td>0</td>\n",
       "      <td>1</td>\n",
       "      <td>0</td>\n",
       "      <td>Tom Berry</td>\n",
       "      <td>Horror</td>\n",
       "      <td>...</td>\n",
       "      <td>0</td>\n",
       "      <td>0</td>\n",
       "      <td>0</td>\n",
       "      <td>0</td>\n",
       "      <td>0</td>\n",
       "      <td>0</td>\n",
       "      <td>0</td>\n",
       "      <td>0</td>\n",
       "      <td>0</td>\n",
       "      <td>3.585229</td>\n",
       "    </tr>\n",
       "    <tr>\n",
       "      <th>Freestyle</th>\n",
       "      <td>2010</td>\n",
       "      <td>13</td>\n",
       "      <td>2.8</td>\n",
       "      <td>22%</td>\n",
       "      <td>0</td>\n",
       "      <td>0</td>\n",
       "      <td>1</td>\n",
       "      <td>0</td>\n",
       "      <td>Harley Cokeliss</td>\n",
       "      <td>Drama</td>\n",
       "      <td>...</td>\n",
       "      <td>0</td>\n",
       "      <td>0</td>\n",
       "      <td>0</td>\n",
       "      <td>0</td>\n",
       "      <td>0</td>\n",
       "      <td>0</td>\n",
       "      <td>0</td>\n",
       "      <td>0</td>\n",
       "      <td>0</td>\n",
       "      <td>3.517021</td>\n",
       "    </tr>\n",
       "    <tr>\n",
       "      <th>13th Child</th>\n",
       "      <td>2002</td>\n",
       "      <td>18</td>\n",
       "      <td>2.9</td>\n",
       "      <td>40%</td>\n",
       "      <td>0</td>\n",
       "      <td>0</td>\n",
       "      <td>1</td>\n",
       "      <td>0</td>\n",
       "      <td>Thomas Ashley,Steven Stockage</td>\n",
       "      <td>Horror,Mystery,Thriller</td>\n",
       "      <td>...</td>\n",
       "      <td>0</td>\n",
       "      <td>0</td>\n",
       "      <td>0</td>\n",
       "      <td>0</td>\n",
       "      <td>0</td>\n",
       "      <td>0</td>\n",
       "      <td>0</td>\n",
       "      <td>0</td>\n",
       "      <td>0</td>\n",
       "      <td>3.484304</td>\n",
       "    </tr>\n",
       "    <tr>\n",
       "      <th>Shark Attack 3: Megalodon</th>\n",
       "      <td>2002</td>\n",
       "      <td>18</td>\n",
       "      <td>2.9</td>\n",
       "      <td>20%</td>\n",
       "      <td>0</td>\n",
       "      <td>0</td>\n",
       "      <td>1</td>\n",
       "      <td>0</td>\n",
       "      <td>David Worth</td>\n",
       "      <td>Action,Adventure,Horror,Sci-Fi,Thriller</td>\n",
       "      <td>...</td>\n",
       "      <td>0</td>\n",
       "      <td>0</td>\n",
       "      <td>0</td>\n",
       "      <td>0</td>\n",
       "      <td>0</td>\n",
       "      <td>0</td>\n",
       "      <td>0</td>\n",
       "      <td>0</td>\n",
       "      <td>0</td>\n",
       "      <td>3.484304</td>\n",
       "    </tr>\n",
       "    <tr>\n",
       "      <th>BloodRayne</th>\n",
       "      <td>2005</td>\n",
       "      <td>18</td>\n",
       "      <td>2.9</td>\n",
       "      <td>4%</td>\n",
       "      <td>0</td>\n",
       "      <td>0</td>\n",
       "      <td>1</td>\n",
       "      <td>0</td>\n",
       "      <td>Uwe Boll</td>\n",
       "      <td>Action,Adventure,Fantasy,Horror</td>\n",
       "      <td>...</td>\n",
       "      <td>0</td>\n",
       "      <td>0</td>\n",
       "      <td>0</td>\n",
       "      <td>0</td>\n",
       "      <td>0</td>\n",
       "      <td>0</td>\n",
       "      <td>0</td>\n",
       "      <td>0</td>\n",
       "      <td>0</td>\n",
       "      <td>3.459073</td>\n",
       "    </tr>\n",
       "  </tbody>\n",
       "</table>\n",
       "<p>10 rows × 101 columns</p>\n",
       "</div>"
      ],
      "text/plain": [
       "                                                    Year Age  IMDb  \\\n",
       "Title                                                                \n",
       "Jonas Brothers: The Concert Experience              2009   7   1.6   \n",
       "Hannah Montana & Miley Cyrus: Best of Both Worl...  2008   7   2.4   \n",
       "Mega Piranha                                        2010  18   2.4   \n",
       "Mega Shark vs. Giant Octopus                        2009  18   2.5   \n",
       "Black Rose                                          2014  18   2.5   \n",
       "The Amityville Curse                                1990  18   2.9   \n",
       "Freestyle                                           2010  13   2.8   \n",
       "13th Child                                          2002  18   2.9   \n",
       "Shark Attack 3: Megalodon                           2002  18   2.9   \n",
       "BloodRayne                                          2005  18   2.9   \n",
       "\n",
       "                                                   Rotten Tomatoes  Netflix  \\\n",
       "Title                                                                         \n",
       "Jonas Brothers: The Concert Experience                         24%        0   \n",
       "Hannah Montana & Miley Cyrus: Best of Both Worl...             73%        0   \n",
       "Mega Piranha                                                    8%        0   \n",
       "Mega Shark vs. Giant Octopus                                   18%        0   \n",
       "Black Rose                                                     22%        1   \n",
       "The Amityville Curse                                           17%        0   \n",
       "Freestyle                                                      22%        0   \n",
       "13th Child                                                     40%        0   \n",
       "Shark Attack 3: Megalodon                                      20%        0   \n",
       "BloodRayne                                                      4%        0   \n",
       "\n",
       "                                                    Hulu  Prime Video  \\\n",
       "Title                                                                   \n",
       "Jonas Brothers: The Concert Experience                 0            0   \n",
       "Hannah Montana & Miley Cyrus: Best of Both Worl...     0            0   \n",
       "Mega Piranha                                           0            1   \n",
       "Mega Shark vs. Giant Octopus                           0            1   \n",
       "Black Rose                                             0            0   \n",
       "The Amityville Curse                                   0            1   \n",
       "Freestyle                                              0            1   \n",
       "13th Child                                             0            1   \n",
       "Shark Attack 3: Megalodon                              0            1   \n",
       "BloodRayne                                             0            1   \n",
       "\n",
       "                                                    Disney+  \\\n",
       "Title                                                         \n",
       "Jonas Brothers: The Concert Experience                    1   \n",
       "Hannah Montana & Miley Cyrus: Best of Both Worl...        1   \n",
       "Mega Piranha                                              0   \n",
       "Mega Shark vs. Giant Octopus                              0   \n",
       "Black Rose                                                0   \n",
       "The Amityville Curse                                      0   \n",
       "Freestyle                                                 0   \n",
       "13th Child                                                0   \n",
       "Shark Attack 3: Megalodon                                 0   \n",
       "BloodRayne                                                0   \n",
       "\n",
       "                                                                        Directors  \\\n",
       "Title                                                                               \n",
       "Jonas Brothers: The Concert Experience                            Bruce Hendricks   \n",
       "Hannah Montana & Miley Cyrus: Best of Both Worl...                Bruce Hendricks   \n",
       "Mega Piranha                                                        Eric Forsberg   \n",
       "Mega Shark vs. Giant Octopus                                           Jack Perez   \n",
       "Black Rose                                                       Alexander Nevsky   \n",
       "The Amityville Curse                                                    Tom Berry   \n",
       "Freestyle                                                         Harley Cokeliss   \n",
       "13th Child                                          Thomas Ashley,Steven Stockage   \n",
       "Shark Attack 3: Megalodon                                             David Worth   \n",
       "BloodRayne                                                               Uwe Boll   \n",
       "\n",
       "                                                                                            Genres  \\\n",
       "Title                                                                                                \n",
       "Jonas Brothers: The Concert Experience                                           Documentary,Music   \n",
       "Hannah Montana & Miley Cyrus: Best of Both Worl...                               Documentary,Music   \n",
       "Mega Piranha                                        Action,Adventure,Comedy,Horror,Sci-Fi,Thriller   \n",
       "Mega Shark vs. Giant Octopus                        Action,Adventure,Comedy,Horror,Sci-Fi,Thriller   \n",
       "Black Rose                                                                      Action,Crime,Drama   \n",
       "The Amityville Curse                                                                        Horror   \n",
       "Freestyle                                                                                    Drama   \n",
       "13th Child                                                                 Horror,Mystery,Thriller   \n",
       "Shark Attack 3: Megalodon                                  Action,Adventure,Horror,Sci-Fi,Thriller   \n",
       "BloodRayne                                                         Action,Adventure,Fantasy,Horror   \n",
       "\n",
       "                                                    ...  88  89  90  95  98  \\\n",
       "Title                                               ...                       \n",
       "Jonas Brothers: The Concert Experience              ...   0   0   0   0   0   \n",
       "Hannah Montana & Miley Cyrus: Best of Both Worl...  ...   0   0   0   0   0   \n",
       "Mega Piranha                                        ...   0   0   0   0   0   \n",
       "Mega Shark vs. Giant Octopus                        ...   0   0   0   0   0   \n",
       "Black Rose                                          ...   0   0   0   0   0   \n",
       "The Amityville Curse                                ...   0   0   0   0   0   \n",
       "Freestyle                                           ...   0   0   0   0   0   \n",
       "13th Child                                          ...   0   0   0   0   0   \n",
       "Shark Attack 3: Megalodon                           ...   0   0   0   0   0   \n",
       "BloodRayne                                          ...   0   0   0   0   0   \n",
       "\n",
       "                                                    100  101  105  118  \\\n",
       "Title                                                                    \n",
       "Jonas Brothers: The Concert Experience                0    0    0    0   \n",
       "Hannah Montana & Miley Cyrus: Best of Both Worl...    0    0    0    0   \n",
       "Mega Piranha                                          0    0    0    0   \n",
       "Mega Shark vs. Giant Octopus                          0    0    0    0   \n",
       "Black Rose                                            0    0    0    0   \n",
       "The Amityville Curse                                  0    0    0    0   \n",
       "Freestyle                                             0    0    0    0   \n",
       "13th Child                                            0    0    0    0   \n",
       "Shark Attack 3: Megalodon                             0    0    0    0   \n",
       "BloodRayne                                            0    0    0    0   \n",
       "\n",
       "                                                         res  \n",
       "Title                                                         \n",
       "Jonas Brothers: The Concert Experience              4.725431  \n",
       "Hannah Montana & Miley Cyrus: Best of Both Worl...  3.933841  \n",
       "Mega Piranha                                        3.917021  \n",
       "Mega Shark vs. Giant Octopus                        3.825431  \n",
       "Black Rose                                          3.783379  \n",
       "The Amityville Curse                                3.585229  \n",
       "Freestyle                                           3.517021  \n",
       "13th Child                                          3.484304  \n",
       "Shark Attack 3: Megalodon                           3.484304  \n",
       "BloodRayne                                          3.459073  \n",
       "\n",
       "[10 rows x 101 columns]"
      ]
     },
     "execution_count": 329,
     "metadata": {},
     "output_type": "execute_result"
    }
   ],
   "source": [
    "df_added_year_dummies.sort_values(by='res',ascending=False, inplace=True)\n",
    "df_added_year_dummies.head(10)\n",
    "# The residual values are moving very slowly up to An Hour To Kill which has a large jump from BROS. Last Call.\n",
    "# It seems like the bottom 5 are underpredicted"
   ]
  },
  {
   "cell_type": "code",
   "execution_count": 330,
   "metadata": {},
   "outputs": [],
   "source": [
    "underpredicted = df_added_year_dummies['res'].sort_values().head(5).index.tolist()\n",
    "# Let's set those top 5 to a variable"
   ]
  },
  {
   "cell_type": "code",
   "execution_count": 331,
   "metadata": {},
   "outputs": [
    {
     "data": {
      "text/html": [
       "<div>\n",
       "<style scoped>\n",
       "    .dataframe tbody tr th:only-of-type {\n",
       "        vertical-align: middle;\n",
       "    }\n",
       "\n",
       "    .dataframe tbody tr th {\n",
       "        vertical-align: top;\n",
       "    }\n",
       "\n",
       "    .dataframe thead th {\n",
       "        text-align: right;\n",
       "    }\n",
       "</style>\n",
       "<table border=\"1\" class=\"dataframe\">\n",
       "  <thead>\n",
       "    <tr style=\"text-align: right;\">\n",
       "      <th></th>\n",
       "      <th>Year</th>\n",
       "      <th>Age</th>\n",
       "      <th>IMDb</th>\n",
       "      <th>Rotten Tomatoes</th>\n",
       "      <th>Netflix</th>\n",
       "      <th>Hulu</th>\n",
       "      <th>Prime Video</th>\n",
       "      <th>Disney+</th>\n",
       "      <th>Directors</th>\n",
       "      <th>Genres</th>\n",
       "      <th>...</th>\n",
       "      <th>88</th>\n",
       "      <th>89</th>\n",
       "      <th>90</th>\n",
       "      <th>95</th>\n",
       "      <th>98</th>\n",
       "      <th>100</th>\n",
       "      <th>101</th>\n",
       "      <th>105</th>\n",
       "      <th>118</th>\n",
       "      <th>res</th>\n",
       "    </tr>\n",
       "    <tr>\n",
       "      <th>Title</th>\n",
       "      <th></th>\n",
       "      <th></th>\n",
       "      <th></th>\n",
       "      <th></th>\n",
       "      <th></th>\n",
       "      <th></th>\n",
       "      <th></th>\n",
       "      <th></th>\n",
       "      <th></th>\n",
       "      <th></th>\n",
       "      <th></th>\n",
       "      <th></th>\n",
       "      <th></th>\n",
       "      <th></th>\n",
       "      <th></th>\n",
       "      <th></th>\n",
       "      <th></th>\n",
       "      <th></th>\n",
       "      <th></th>\n",
       "      <th></th>\n",
       "      <th></th>\n",
       "    </tr>\n",
       "  </thead>\n",
       "  <tbody>\n",
       "    <tr>\n",
       "      <th>GoodFellas</th>\n",
       "      <td>1990</td>\n",
       "      <td>18</td>\n",
       "      <td>8.7</td>\n",
       "      <td>96%</td>\n",
       "      <td>0</td>\n",
       "      <td>1</td>\n",
       "      <td>0</td>\n",
       "      <td>0</td>\n",
       "      <td>Martin Scorsese</td>\n",
       "      <td>Biography,Crime,Drama</td>\n",
       "      <td>...</td>\n",
       "      <td>0</td>\n",
       "      <td>0</td>\n",
       "      <td>0</td>\n",
       "      <td>0</td>\n",
       "      <td>0</td>\n",
       "      <td>0</td>\n",
       "      <td>0</td>\n",
       "      <td>0</td>\n",
       "      <td>0</td>\n",
       "      <td>-2.214771</td>\n",
       "    </tr>\n",
       "    <tr>\n",
       "      <th>Mahanati</th>\n",
       "      <td>2018</td>\n",
       "      <td>7</td>\n",
       "      <td>8.5</td>\n",
       "      <td>100%</td>\n",
       "      <td>0</td>\n",
       "      <td>0</td>\n",
       "      <td>1</td>\n",
       "      <td>0</td>\n",
       "      <td>Nag Ashwin</td>\n",
       "      <td>Biography,Drama</td>\n",
       "      <td>...</td>\n",
       "      <td>0</td>\n",
       "      <td>0</td>\n",
       "      <td>0</td>\n",
       "      <td>0</td>\n",
       "      <td>0</td>\n",
       "      <td>0</td>\n",
       "      <td>0</td>\n",
       "      <td>0</td>\n",
       "      <td>0</td>\n",
       "      <td>-2.250263</td>\n",
       "    </tr>\n",
       "    <tr>\n",
       "      <th>Avengers: Infinity War</th>\n",
       "      <td>2018</td>\n",
       "      <td>13</td>\n",
       "      <td>8.5</td>\n",
       "      <td>84%</td>\n",
       "      <td>1</td>\n",
       "      <td>0</td>\n",
       "      <td>0</td>\n",
       "      <td>0</td>\n",
       "      <td>Anthony Russo,Joe Russo</td>\n",
       "      <td>Action,Adventure,Sci-Fi</td>\n",
       "      <td>...</td>\n",
       "      <td>0</td>\n",
       "      <td>0</td>\n",
       "      <td>0</td>\n",
       "      <td>0</td>\n",
       "      <td>0</td>\n",
       "      <td>0</td>\n",
       "      <td>0</td>\n",
       "      <td>0</td>\n",
       "      <td>0</td>\n",
       "      <td>-2.250263</td>\n",
       "    </tr>\n",
       "    <tr>\n",
       "      <th>For Sama</th>\n",
       "      <td>2019</td>\n",
       "      <td>7</td>\n",
       "      <td>8.5</td>\n",
       "      <td>99%</td>\n",
       "      <td>0</td>\n",
       "      <td>0</td>\n",
       "      <td>1</td>\n",
       "      <td>0</td>\n",
       "      <td>Waad Al-Kateab,Edward Watts</td>\n",
       "      <td>Documentary,War</td>\n",
       "      <td>...</td>\n",
       "      <td>0</td>\n",
       "      <td>0</td>\n",
       "      <td>0</td>\n",
       "      <td>0</td>\n",
       "      <td>0</td>\n",
       "      <td>0</td>\n",
       "      <td>0</td>\n",
       "      <td>0</td>\n",
       "      <td>0</td>\n",
       "      <td>-2.258673</td>\n",
       "    </tr>\n",
       "    <tr>\n",
       "      <th>Dave Chappelle: Sticks &amp; Stones</th>\n",
       "      <td>2019</td>\n",
       "      <td>18</td>\n",
       "      <td>8.5</td>\n",
       "      <td>35%</td>\n",
       "      <td>1</td>\n",
       "      <td>0</td>\n",
       "      <td>0</td>\n",
       "      <td>0</td>\n",
       "      <td>Stan Lathan</td>\n",
       "      <td>Comedy</td>\n",
       "      <td>...</td>\n",
       "      <td>0</td>\n",
       "      <td>0</td>\n",
       "      <td>0</td>\n",
       "      <td>0</td>\n",
       "      <td>0</td>\n",
       "      <td>0</td>\n",
       "      <td>0</td>\n",
       "      <td>0</td>\n",
       "      <td>0</td>\n",
       "      <td>-2.258673</td>\n",
       "    </tr>\n",
       "    <tr>\n",
       "      <th>The Matrix</th>\n",
       "      <td>1999</td>\n",
       "      <td>18</td>\n",
       "      <td>8.7</td>\n",
       "      <td>87%</td>\n",
       "      <td>1</td>\n",
       "      <td>0</td>\n",
       "      <td>0</td>\n",
       "      <td>0</td>\n",
       "      <td>Lana Wachowski,Lilly Wachowski</td>\n",
       "      <td>Action,Sci-Fi</td>\n",
       "      <td>...</td>\n",
       "      <td>0</td>\n",
       "      <td>0</td>\n",
       "      <td>0</td>\n",
       "      <td>0</td>\n",
       "      <td>0</td>\n",
       "      <td>0</td>\n",
       "      <td>0</td>\n",
       "      <td>0</td>\n",
       "      <td>0</td>\n",
       "      <td>-2.290465</td>\n",
       "    </tr>\n",
       "    <tr>\n",
       "      <th>Parasite</th>\n",
       "      <td>2019</td>\n",
       "      <td>18</td>\n",
       "      <td>8.6</td>\n",
       "      <td>99%</td>\n",
       "      <td>0</td>\n",
       "      <td>1</td>\n",
       "      <td>1</td>\n",
       "      <td>0</td>\n",
       "      <td>Bong Joon Ho</td>\n",
       "      <td>Comedy,Drama,Thriller</td>\n",
       "      <td>...</td>\n",
       "      <td>0</td>\n",
       "      <td>0</td>\n",
       "      <td>0</td>\n",
       "      <td>0</td>\n",
       "      <td>0</td>\n",
       "      <td>0</td>\n",
       "      <td>0</td>\n",
       "      <td>0</td>\n",
       "      <td>0</td>\n",
       "      <td>-2.358673</td>\n",
       "    </tr>\n",
       "    <tr>\n",
       "      <th>Hearing Is Believing</th>\n",
       "      <td>2017</td>\n",
       "      <td>7</td>\n",
       "      <td>8.7</td>\n",
       "      <td>60%</td>\n",
       "      <td>0</td>\n",
       "      <td>0</td>\n",
       "      <td>1</td>\n",
       "      <td>0</td>\n",
       "      <td>Lorenzo DeStefano</td>\n",
       "      <td>Documentary,Biography,Family,Music</td>\n",
       "      <td>...</td>\n",
       "      <td>0</td>\n",
       "      <td>0</td>\n",
       "      <td>0</td>\n",
       "      <td>0</td>\n",
       "      <td>0</td>\n",
       "      <td>0</td>\n",
       "      <td>0</td>\n",
       "      <td>0</td>\n",
       "      <td>0</td>\n",
       "      <td>-2.441853</td>\n",
       "    </tr>\n",
       "    <tr>\n",
       "      <th>Inception</th>\n",
       "      <td>2010</td>\n",
       "      <td>13</td>\n",
       "      <td>8.8</td>\n",
       "      <td>87%</td>\n",
       "      <td>1</td>\n",
       "      <td>0</td>\n",
       "      <td>0</td>\n",
       "      <td>0</td>\n",
       "      <td>Christopher Nolan</td>\n",
       "      <td>Action,Adventure,Sci-Fi,Thriller</td>\n",
       "      <td>...</td>\n",
       "      <td>0</td>\n",
       "      <td>0</td>\n",
       "      <td>0</td>\n",
       "      <td>0</td>\n",
       "      <td>0</td>\n",
       "      <td>0</td>\n",
       "      <td>0</td>\n",
       "      <td>0</td>\n",
       "      <td>0</td>\n",
       "      <td>-2.482979</td>\n",
       "    </tr>\n",
       "    <tr>\n",
       "      <th>The Dark Knight</th>\n",
       "      <td>2008</td>\n",
       "      <td>13</td>\n",
       "      <td>9.0</td>\n",
       "      <td>94%</td>\n",
       "      <td>0</td>\n",
       "      <td>1</td>\n",
       "      <td>0</td>\n",
       "      <td>0</td>\n",
       "      <td>Christopher Nolan</td>\n",
       "      <td>Action,Crime,Drama,Thriller</td>\n",
       "      <td>...</td>\n",
       "      <td>0</td>\n",
       "      <td>0</td>\n",
       "      <td>0</td>\n",
       "      <td>0</td>\n",
       "      <td>0</td>\n",
       "      <td>0</td>\n",
       "      <td>0</td>\n",
       "      <td>0</td>\n",
       "      <td>0</td>\n",
       "      <td>-2.666159</td>\n",
       "    </tr>\n",
       "  </tbody>\n",
       "</table>\n",
       "<p>10 rows × 101 columns</p>\n",
       "</div>"
      ],
      "text/plain": [
       "                                 Year Age  IMDb Rotten Tomatoes  Netflix  \\\n",
       "Title                                                                      \n",
       "GoodFellas                       1990  18   8.7             96%        0   \n",
       "Mahanati                         2018   7   8.5            100%        0   \n",
       "Avengers: Infinity War           2018  13   8.5             84%        1   \n",
       "For Sama                         2019   7   8.5             99%        0   \n",
       "Dave Chappelle: Sticks & Stones  2019  18   8.5             35%        1   \n",
       "The Matrix                       1999  18   8.7             87%        1   \n",
       "Parasite                         2019  18   8.6             99%        0   \n",
       "Hearing Is Believing             2017   7   8.7             60%        0   \n",
       "Inception                        2010  13   8.8             87%        1   \n",
       "The Dark Knight                  2008  13   9.0             94%        0   \n",
       "\n",
       "                                 Hulu  Prime Video  Disney+  \\\n",
       "Title                                                         \n",
       "GoodFellas                          1            0        0   \n",
       "Mahanati                            0            1        0   \n",
       "Avengers: Infinity War              0            0        0   \n",
       "For Sama                            0            1        0   \n",
       "Dave Chappelle: Sticks & Stones     0            0        0   \n",
       "The Matrix                          0            0        0   \n",
       "Parasite                            1            1        0   \n",
       "Hearing Is Believing                0            1        0   \n",
       "Inception                           0            0        0   \n",
       "The Dark Knight                     1            0        0   \n",
       "\n",
       "                                                      Directors  \\\n",
       "Title                                                             \n",
       "GoodFellas                                      Martin Scorsese   \n",
       "Mahanati                                             Nag Ashwin   \n",
       "Avengers: Infinity War                  Anthony Russo,Joe Russo   \n",
       "For Sama                            Waad Al-Kateab,Edward Watts   \n",
       "Dave Chappelle: Sticks & Stones                     Stan Lathan   \n",
       "The Matrix                       Lana Wachowski,Lilly Wachowski   \n",
       "Parasite                                           Bong Joon Ho   \n",
       "Hearing Is Believing                          Lorenzo DeStefano   \n",
       "Inception                                     Christopher Nolan   \n",
       "The Dark Knight                               Christopher Nolan   \n",
       "\n",
       "                                                             Genres  ...  88  \\\n",
       "Title                                                                ...       \n",
       "GoodFellas                                    Biography,Crime,Drama  ...   0   \n",
       "Mahanati                                            Biography,Drama  ...   0   \n",
       "Avengers: Infinity War                      Action,Adventure,Sci-Fi  ...   0   \n",
       "For Sama                                            Documentary,War  ...   0   \n",
       "Dave Chappelle: Sticks & Stones                              Comedy  ...   0   \n",
       "The Matrix                                            Action,Sci-Fi  ...   0   \n",
       "Parasite                                      Comedy,Drama,Thriller  ...   0   \n",
       "Hearing Is Believing             Documentary,Biography,Family,Music  ...   0   \n",
       "Inception                          Action,Adventure,Sci-Fi,Thriller  ...   0   \n",
       "The Dark Knight                         Action,Crime,Drama,Thriller  ...   0   \n",
       "\n",
       "                                 89  90  95  98  100  101  105  118       res  \n",
       "Title                                                                          \n",
       "GoodFellas                        0   0   0   0    0    0    0    0 -2.214771  \n",
       "Mahanati                          0   0   0   0    0    0    0    0 -2.250263  \n",
       "Avengers: Infinity War            0   0   0   0    0    0    0    0 -2.250263  \n",
       "For Sama                          0   0   0   0    0    0    0    0 -2.258673  \n",
       "Dave Chappelle: Sticks & Stones   0   0   0   0    0    0    0    0 -2.258673  \n",
       "The Matrix                        0   0   0   0    0    0    0    0 -2.290465  \n",
       "Parasite                          0   0   0   0    0    0    0    0 -2.358673  \n",
       "Hearing Is Believing              0   0   0   0    0    0    0    0 -2.441853  \n",
       "Inception                         0   0   0   0    0    0    0    0 -2.482979  \n",
       "The Dark Knight                   0   0   0   0    0    0    0    0 -2.666159  \n",
       "\n",
       "[10 rows x 101 columns]"
      ]
     },
     "execution_count": 331,
     "metadata": {},
     "output_type": "execute_result"
    }
   ],
   "source": [
    "df_added_year_dummies.sort_values(by='res',ascending=False, inplace=True)\n",
    "df_added_year_dummies.tail(10)\n",
    "\n",
    "# This side is fairly similar, the numbers move pretty slowly up \n",
    "# It looks like the top 10 are underprediected"
   ]
  },
  {
   "cell_type": "code",
   "execution_count": 332,
   "metadata": {},
   "outputs": [],
   "source": [
    "overpredicted = df_added_year_dummies['res'].sort_values().tail(10).index.tolist()\n",
    "# Let's set those to another variable\n"
   ]
  },
  {
   "cell_type": "code",
   "execution_count": 333,
   "metadata": {},
   "outputs": [
    {
     "data": {
      "text/plain": [
       "['The Dark Knight',\n",
       " 'Inception',\n",
       " 'Hearing Is Believing',\n",
       " 'Parasite',\n",
       " 'The Matrix']"
      ]
     },
     "execution_count": 333,
     "metadata": {},
     "output_type": "execute_result"
    }
   ],
   "source": [
    "df.loc[underpredicted].index.tolist()"
   ]
  },
  {
   "cell_type": "code",
   "execution_count": 334,
   "metadata": {},
   "outputs": [
    {
     "data": {
      "text/plain": [
       "['BloodRayne',\n",
       " 'Shark Attack 3: Megalodon',\n",
       " '13th Child',\n",
       " 'Freestyle',\n",
       " 'The Amityville Curse',\n",
       " 'Black Rose',\n",
       " 'Mega Shark vs. Giant Octopus',\n",
       " 'Mega Piranha',\n",
       " 'Hannah Montana & Miley Cyrus: Best of Both Worlds Concert',\n",
       " 'Jonas Brothers: The Concert Experience']"
      ]
     },
     "execution_count": 334,
     "metadata": {},
     "output_type": "execute_result"
    }
   ],
   "source": [
    "df.loc[overpredicted].index.tolist()"
   ]
  },
  {
   "cell_type": "code",
   "execution_count": null,
   "metadata": {},
   "outputs": [],
   "source": []
  }
 ],
 "metadata": {
  "kernelspec": {
   "display_name": "mlenv",
   "language": "python",
   "name": "mlenv"
  },
  "language_info": {
   "codemirror_mode": {
    "name": "ipython",
    "version": 3
   },
   "file_extension": ".py",
   "mimetype": "text/x-python",
   "name": "python",
   "nbconvert_exporter": "python",
   "pygments_lexer": "ipython3",
   "version": "3.7.9"
  }
 },
 "nbformat": 4,
 "nbformat_minor": 4
}
